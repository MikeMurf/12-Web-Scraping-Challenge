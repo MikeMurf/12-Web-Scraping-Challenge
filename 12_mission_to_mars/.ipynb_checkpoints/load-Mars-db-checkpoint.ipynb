{
 "cells": [
  {
   "cell_type": "markdown",
   "id": "a98217be",
   "metadata": {},
   "source": [
    "#### MongDB and Flask Application"
   ]
  },
  {
   "cell_type": "code",
   "execution_count": null,
   "id": "aea82a80",
   "metadata": {},
   "outputs": [],
   "source": [
    "#   Load dependencies\n",
    "import scraping\n",
    "from flask import Flask, render_template, redirect, url_for\n",
    "from flask_pymongo import PyMongo\n",
    "\n",
    "app = Flask(__name__)\n",
    "\n",
    "#   Set up Mongo Connection\n",
    "app.config[\"MONGO_URI\"] = \"mongodb://localhost:27017/mars_app\"\n",
    "mongo = PyMongo(app)\n",
    "\n",
    "@app.route(\"/\")\n",
    "def index():\n",
    "    mars = mongo.db.mars.find_one()\n",
    "    return render_template(\"index2.html\", mars=mars)\n",
    "\n",
    "@app.route(\"/scrape\")\n",
    "def scrape():\n",
    "    mars = mongo.db.mars\n",
    "    mars_data = scraping.scrape_all()\n",
    "    mars.update({},mars_data, upsert=True)\n",
    "    return redirect('/', code=302)\n",
    "    \n",
    "if __name__ == \"__main__\":\n",
    "    app.run()\n",
    "\n"
   ]
  },
  {
   "cell_type": "code",
   "execution_count": null,
   "id": "6d3dedd7",
   "metadata": {},
   "outputs": [],
   "source": []
  }
 ],
 "metadata": {
  "kernelspec": {
   "display_name": "Python 3 (ipykernel)",
   "language": "python",
   "name": "python3"
  },
  "language_info": {
   "codemirror_mode": {
    "name": "ipython",
    "version": 3
   },
   "file_extension": ".py",
   "mimetype": "text/x-python",
   "name": "python",
   "nbconvert_exporter": "python",
   "pygments_lexer": "ipython3",
   "version": "3.9.7"
  }
 },
 "nbformat": 4,
 "nbformat_minor": 5
}
