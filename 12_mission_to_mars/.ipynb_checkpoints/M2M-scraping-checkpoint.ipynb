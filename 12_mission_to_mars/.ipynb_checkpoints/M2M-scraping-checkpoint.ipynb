{
 "cells": [
  {
   "cell_type": "markdown",
   "id": "0ea06c70",
   "metadata": {},
   "source": [
    "### Mission to Mars - Web Scraping Homework\n"
   ]
  },
  {
   "cell_type": "code",
   "execution_count": 1,
   "id": "aa2c387c",
   "metadata": {},
   "outputs": [],
   "source": [
    "#   Set up dependencies\n",
    "from splinter import Browser\n",
    "from bs4 import BeautifulSoup as soup\n",
    "from webdriver_manager.chrome import ChromeDriverManager\n",
    "import pandas as pd\n",
    "import datetime as dt\n"
   ]
  },
  {
   "cell_type": "code",
   "execution_count": 2,
   "id": "88a5ce07",
   "metadata": {},
   "outputs": [],
   "source": [
    "def scrape_all():\n",
    "    executable_path = {'executable_path': ChromeDriverManager().install()}\n",
    "    browser = Browser('chrome', **executable_path, headless=True)\n",
    "\n",
    "\n",
    "    news_title, news_paragraph = mars_news(browser)\n",
    "    img_urls_titles = mars_hemis(browser)\n",
    "\n",
    "    data = {\n",
    "        'news_title' : news_title,\n",
    "        'news_paragraph' : news_paragraph,\n",
    "        'featured_image' : featured_image(browser),\n",
    "        'facts' : mars_facts(),\n",
    "        'hemispheres' : img_urls_titles,\n",
    "        'last_modified' : dt.datetime.now()\n",
    "    }\n",
    "    browser.quit()\n",
    "    return data\n"
   ]
  },
  {
   "cell_type": "code",
   "execution_count": 3,
   "id": "f7bb81d3",
   "metadata": {},
   "outputs": [],
   "source": [
    "def mars_news(browser):\n",
    "    url = 'https://data-class-mars.s3.amazonaws.com/Mars/index.html'\n",
    "    browser.visit(url)\n",
    "\n",
    "    browser.is_element_present_by_css('div.list_text', wait_time=1)\n",
    "\n",
    "\n",
    "    html = browser.html\n",
    "    news_soup = soup(html, 'html.parser')\n",
    "\n",
    "\n",
    "    try:\n",
    "        slide_elem = news_soup.select_one('div.list_text')\n",
    "        news_title = slide_elem.find('div', class_='content_title').get_text()\n",
    "        news_p = slide_elem.find('div', class_='article_teaser_body').get_text()\n",
    "\n",
    "\n",
    "    except AttributeError:\n",
    "        return None, None\n",
    "\n",
    "\n",
    "    return news_title, news_p\n"
   ]
  },
  {
   "cell_type": "code",
   "execution_count": 4,
   "id": "a16d107e",
   "metadata": {},
   "outputs": [],
   "source": [
    "def featured_image(browser):\n",
    "    url = 'https://spaceimages-mars.com'\n",
    "    browser.visit(url)\n",
    "\n",
    "\n",
    "    full_image_elem = browser.find_by_tag('button')[1]\n",
    "    full_image_elem.click()\n",
    "\n",
    "\n",
    "    html = browser.html\n",
    "    img_soup = soup(html, 'html.parser')\n",
    "\n",
    "\n",
    "    try:\n",
    "        img_url_rel = img_soup.find('img', class_='fancybox-image').get('src')\n",
    "    except AttributeError:\n",
    "        return None \n",
    "\n",
    "\n",
    "    img_url = f'https://spaceimages-mars.com/{img_url_rel}'\n",
    "    return img_url\n"
   ]
  },
  {
   "cell_type": "code",
   "execution_count": 5,
   "id": "9835c2ac",
   "metadata": {},
   "outputs": [],
   "source": [
    "def mars_facts():\n",
    "    try:\n",
    "        df = pd.read_html('https://galaxyfacts-mars.com')[0]\n",
    "    except BaseException:\n",
    "        return None\n",
    "\n",
    "\n",
    "    df.columns = ['Description','Mars','Earth']\n",
    "    df.set_index('Description', inplace=True)\n",
    "\n",
    "\n",
    "    return df.to_html()\n"
   ]
  },
  {
   "cell_type": "code",
   "execution_count": 6,
   "id": "1e363c28",
   "metadata": {},
   "outputs": [],
   "source": [
    "def mars_hemis(browser):\n",
    "    url = 'https://marshemispheres.com/'\n",
    "    browser.visit(url)\n",
    "\n",
    "\n",
    "    hemisphere_image_urls = []\n",
    "    for hemis in range(4):\n",
    "        browser.links.find_by_partial_text('Hemisphere')[hemis].click()\n",
    "        html = browser.html\n",
    "        hemi_soup = soup(html, 'html.parser')\n",
    "        title = hemi_soup.find('h2', class_='title').text\n",
    "        img_url = hemi_soup.find('li').a.get('href')\n",
    "        hemispheres = {}\n",
    "        hemispheres['img_url'] = f'https://marshemispheres.com/{img_url}'\n",
    "        hemispheres['title'] = title\n",
    "        hemisphere_image_urls.append(hemispheres)\n",
    "        browser.back()\n",
    "    return hemisphere_image_urls\n"
   ]
  },
  {
   "cell_type": "code",
   "execution_count": 7,
   "id": "4a220fac",
   "metadata": {},
   "outputs": [
    {
     "name": "stderr",
     "output_type": "stream",
     "text": [
      "\n",
      "\n",
      "====== WebDriver manager ======\n",
      "Current google-chrome version is 98.0.4758\n",
      "Get LATEST chromedriver version for 98.0.4758 google-chrome\n",
      "Trying to download new driver from https://chromedriver.storage.googleapis.com/98.0.4758.80/chromedriver_win32.zip\n",
      "Driver has been saved in cache [C:\\Users\\mikem\\.wdm\\drivers\\chromedriver\\win32\\98.0.4758.80]\n"
     ]
    },
    {
     "name": "stdout",
     "output_type": "stream",
     "text": [
      "{'news_title': None, 'news_paragraph': None, 'featured_image': 'https://spaceimages-mars.com/image/featured/mars2.jpg', 'facts': '<table border=\"1\" class=\"dataframe\">\\n  <thead>\\n    <tr style=\"text-align: right;\">\\n      <th></th>\\n      <th>Mars</th>\\n      <th>Earth</th>\\n    </tr>\\n    <tr>\\n      <th>Description</th>\\n      <th></th>\\n      <th></th>\\n    </tr>\\n  </thead>\\n  <tbody>\\n    <tr>\\n      <th>Mars - Earth Comparison</th>\\n      <td>Mars</td>\\n      <td>Earth</td>\\n    </tr>\\n    <tr>\\n      <th>Diameter:</th>\\n      <td>6,779 km</td>\\n      <td>12,742 km</td>\\n    </tr>\\n    <tr>\\n      <th>Mass:</th>\\n      <td>6.39 × 10^23 kg</td>\\n      <td>5.97 × 10^24 kg</td>\\n    </tr>\\n    <tr>\\n      <th>Moons:</th>\\n      <td>2</td>\\n      <td>1</td>\\n    </tr>\\n    <tr>\\n      <th>Distance from Sun:</th>\\n      <td>227,943,824 km</td>\\n      <td>149,598,262 km</td>\\n    </tr>\\n    <tr>\\n      <th>Length of Year:</th>\\n      <td>687 Earth days</td>\\n      <td>365.24 days</td>\\n    </tr>\\n    <tr>\\n      <th>Temperature:</th>\\n      <td>-87 to -5 °C</td>\\n      <td>-88 to 58°C</td>\\n    </tr>\\n  </tbody>\\n</table>', 'hemispheres': [{'img_url': 'https://marshemispheres.com/images/full.jpg', 'title': 'Cerberus Hemisphere Enhanced'}, {'img_url': 'https://marshemispheres.com/images/schiaparelli_enhanced-full.jpg', 'title': 'Schiaparelli Hemisphere Enhanced'}, {'img_url': 'https://marshemispheres.com/images/syrtis_major_enhanced-full.jpg', 'title': 'Syrtis Major Hemisphere Enhanced'}, {'img_url': 'https://marshemispheres.com/images/valles_marineris_enhanced-full.jpg', 'title': 'Valles Marineris Hemisphere Enhanced'}], 'last_modified': datetime.datetime(2022, 2, 11, 6, 22, 4, 14045)}\n"
     ]
    }
   ],
   "source": [
    "if __name__ == \"__main__\":\n",
    "    print(scrape_all())\n"
   ]
  },
  {
   "cell_type": "code",
   "execution_count": null,
   "id": "394934b3",
   "metadata": {},
   "outputs": [],
   "source": []
  }
 ],
 "metadata": {
  "kernelspec": {
   "display_name": "Python 3 (ipykernel)",
   "language": "python",
   "name": "python3"
  },
  "language_info": {
   "codemirror_mode": {
    "name": "ipython",
    "version": 3
   },
   "file_extension": ".py",
   "mimetype": "text/x-python",
   "name": "python",
   "nbconvert_exporter": "python",
   "pygments_lexer": "ipython3",
   "version": "3.9.7"
  }
 },
 "nbformat": 4,
 "nbformat_minor": 5
}
