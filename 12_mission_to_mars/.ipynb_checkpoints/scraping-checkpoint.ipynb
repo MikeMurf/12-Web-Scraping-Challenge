{
 "cells": [
  {
   "cell_type": "markdown",
   "id": "8bf19f34",
   "metadata": {},
   "source": [
    "#### Scraping Code Script"
   ]
  },
  {
   "cell_type": "code",
   "execution_count": null,
   "id": "24fcbdc7",
   "metadata": {},
   "outputs": [],
   "source": [
    "#   Script to Execute all the Scraping Code\n",
    "from splinter import Browser, browser\n",
    "from bs4 import BeautifulSoup as soup\n",
    "import pandas as pd\n",
    "import datetime as dt\n",
    "from webdriver_manager.chrome import ChromeDriverManager\n",
    "\n",
    "def scrape_all():\n",
    "    executable_path = {'executable_path': ChromeDriverManager().install()}\n",
    "    browser = Browser('chrome', **executable_path, headless=True)\n",
    "\n",
    "    news_title, news_paragraph = mars_news(browser)\n",
    "    img_urls_titles = mars_hemis(browser)\n",
    "\n",
    "    data = {\n",
    "    'news_title' : news_title,\n",
    "    'news_paragraph' : news_paragraph,\n",
    "    'featured_image' : featured_image(browser),\n",
    "    'facts' : mars_facts(),\n",
    "    'hemispheres' : img_urls_titles,\n",
    "    'last_modified' : dt.datetime.now()\n",
    "           }\n",
    "    browser.quit()\n",
    "    return data\n",
    "\n",
    "def mars_news(browser):\n",
    "    url = 'https://data-class-mars.s3.amazonaws.com/Mars/index.html'\n",
    "    browser.visit(url)\n",
    "\n",
    "    browser.is_element_present_by_css('div.list_text', wait_time=1)\n",
    "\n",
    "    html = browser.html\n",
    "    news_soup = soup(html, 'html.parser')\n",
    "\n",
    "    try:\n",
    "        slide_elem = news_soup.select_one('div.list_text')\n",
    "        news_title = slide_elem.find('div', class_='content_title').get_text()\n",
    "        news_p = slide_elem.find('div', class_='article_teaser_body').get_text()\n",
    "\n",
    "    except AttributeError:\n",
    "        return None, None\n",
    "\n",
    "    return news_title, news_p\n",
    "\n",
    "\n",
    "def featured_image(browser):\n",
    "    url = 'https://spaceimages-mars.com'\n",
    "    browser.visit(url)\n",
    "\n",
    "    full_image_elem = browser.find_by_tag('button')[1]\n",
    "    full_image_elem.click()\n",
    "\n",
    "    html = browser.html\n",
    "    img_soup = soup(html, 'html.parser')\n",
    "\n",
    "    try:\n",
    "        img_url_rel = img_soup.find('img', class_='fancybox-image').get('src')\n",
    "    except AttributeError:\n",
    "        return None \n",
    "\n",
    "    img_url = f'https://spaceimages-mars.com/{img_url_rel}'\n",
    "    return img_url\n",
    "\n"
   ]
  },
  {
   "cell_type": "code",
   "execution_count": null,
   "id": "925d5296",
   "metadata": {},
   "outputs": [],
   "source": []
  }
 ],
 "metadata": {
  "kernelspec": {
   "display_name": "Python 3 (ipykernel)",
   "language": "python",
   "name": "python3"
  },
  "language_info": {
   "codemirror_mode": {
    "name": "ipython",
    "version": 3
   },
   "file_extension": ".py",
   "mimetype": "text/x-python",
   "name": "python",
   "nbconvert_exporter": "python",
   "pygments_lexer": "ipython3",
   "version": "3.9.7"
  }
 },
 "nbformat": 4,
 "nbformat_minor": 5
}
